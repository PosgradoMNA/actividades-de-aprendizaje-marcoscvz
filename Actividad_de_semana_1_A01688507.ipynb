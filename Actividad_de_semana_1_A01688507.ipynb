{
  "nbformat": 4,
  "nbformat_minor": 0,
  "metadata": {
    "colab": {
      "provenance": [],
      "collapsed_sections": [],
      "authorship_tag": "ABX9TyM1vmc3ClsTsgJUNN7B7rbs",
      "include_colab_link": true
    },
    "kernelspec": {
      "name": "python3",
      "display_name": "Python 3"
    },
    "language_info": {
      "name": "python"
    }
  },
  "cells": [
    {
      "cell_type": "markdown",
      "metadata": {
        "id": "view-in-github",
        "colab_type": "text"
      },
      "source": [
        "<a href=\"https://colab.research.google.com/github/PosgradoMNA/actividades-de-aprendizaje-marcoscvz/blob/main/Actividad_de_semana_1_A01688507.ipynb\" target=\"_parent\"><img src=\"https://colab.research.google.com/assets/colab-badge.svg\" alt=\"Open In Colab\"/></a>"
      ]
    },
    {
      "cell_type": "markdown",
      "source": [
        "##Types"
      ],
      "metadata": {
        "id": "uGZrvSICdiCj"
      }
    },
    {
      "cell_type": "markdown",
      "source": [
        "Hello World"
      ],
      "metadata": {
        "id": "uChuxTG7SQdJ"
      }
    },
    {
      "cell_type": "code",
      "execution_count": 1,
      "metadata": {
        "colab": {
          "base_uri": "https://localhost:8080/"
        },
        "id": "eOQh-KrvCb_w",
        "outputId": "44eb50dd-83fd-4057-d81e-5bb326a0ca98"
      },
      "outputs": [
        {
          "output_type": "stream",
          "name": "stdout",
          "text": [
            "Hello Python 101\n"
          ]
        }
      ],
      "source": [
        "#print Hello Python 101\n",
        "print(\"Hello Python 101\")"
      ]
    },
    {
      "cell_type": "code",
      "source": [
        "print(\"Hello World\")"
      ],
      "metadata": {
        "colab": {
          "base_uri": "https://localhost:8080/"
        },
        "id": "rwTXbMfGFrRN",
        "outputId": "c8f1ab00-d82c-465e-c9ca-7b13e7609eb6"
      },
      "execution_count": 2,
      "outputs": [
        {
          "output_type": "stream",
          "name": "stdout",
          "text": [
            "Hello World\n"
          ]
        }
      ]
    },
    {
      "cell_type": "code",
      "source": [
        "print(\"Hello\\nWorld\")"
      ],
      "metadata": {
        "colab": {
          "base_uri": "https://localhost:8080/"
        },
        "id": "3wsXDhjRGnxK",
        "outputId": "a43c8d32-a65f-438c-9407-7c7866ca0f12"
      },
      "execution_count": 3,
      "outputs": [
        {
          "output_type": "stream",
          "name": "stdout",
          "text": [
            "Hello\n",
            "World\n"
          ]
        }
      ]
    },
    {
      "cell_type": "code",
      "source": [
        "# this is a comment"
      ],
      "metadata": {
        "id": "UPc3cj3nTIcU"
      },
      "execution_count": 4,
      "outputs": []
    },
    {
      "cell_type": "markdown",
      "source": [
        "Type Casting"
      ],
      "metadata": {
        "id": "7ZJl5YpjMoVx"
      }
    },
    {
      "cell_type": "code",
      "source": [
        "type(\"1.1\")"
      ],
      "metadata": {
        "id": "K49YkgNHMMPN",
        "outputId": "4003427a-b685-4e11-f257-11f068a234d3",
        "colab": {
          "base_uri": "https://localhost:8080/"
        }
      },
      "execution_count": 8,
      "outputs": [
        {
          "output_type": "execute_result",
          "data": {
            "text/plain": [
              "str"
            ]
          },
          "metadata": {},
          "execution_count": 8
        }
      ]
    },
    {
      "cell_type": "markdown",
      "source": [
        "Is a Number Always a Number?"
      ],
      "metadata": {
        "id": "PGU2Xuv6NBdR"
      }
    },
    {
      "cell_type": "code",
      "source": [
        "print(bool(int(\"1\")))"
      ],
      "metadata": {
        "id": "-7kAvFJPM34d",
        "outputId": "62b8fcad-a001-4271-8b4a-03b0b5c5f7ca",
        "colab": {
          "base_uri": "https://localhost:8080/"
        }
      },
      "execution_count": 9,
      "outputs": [
        {
          "output_type": "stream",
          "name": "stdout",
          "text": [
            "True\n"
          ]
        }
      ]
    },
    {
      "cell_type": "markdown",
      "source": [],
      "metadata": {
        "id": "8ed_0aHvL5eo"
      }
    },
    {
      "cell_type": "code",
      "source": [
        "# Addition operation expression\n",
        "\n",
        "43 + 60 + 16 + 41"
      ],
      "metadata": {
        "id": "duR_JhUsNm2U",
        "outputId": "f29289bc-3752-4ff7-b392-aa7033e97101",
        "colab": {
          "base_uri": "https://localhost:8080/"
        }
      },
      "execution_count": 10,
      "outputs": [
        {
          "output_type": "execute_result",
          "data": {
            "text/plain": [
              "160"
            ]
          },
          "metadata": {},
          "execution_count": 10
        }
      ]
    },
    {
      "cell_type": "code",
      "source": [
        "# Subtraction operation expression\n",
        "\n",
        "50 - 60"
      ],
      "metadata": {
        "id": "Lims3Kx3Npyy",
        "outputId": "cd925ea6-6e0d-4cbd-f30d-59f4f8c5f65e",
        "colab": {
          "base_uri": "https://localhost:8080/"
        }
      },
      "execution_count": 13,
      "outputs": [
        {
          "output_type": "execute_result",
          "data": {
            "text/plain": [
              "-10"
            ]
          },
          "metadata": {},
          "execution_count": 13
        }
      ]
    },
    {
      "cell_type": "code",
      "source": [
        "# Multiplication operation expression\n",
        "\n",
        "5 * 5"
      ],
      "metadata": {
        "id": "DGWkmTAkNufl",
        "outputId": "b68d3a22-2793-4548-8186-9ec1a3663278",
        "colab": {
          "base_uri": "https://localhost:8080/"
        }
      },
      "execution_count": 14,
      "outputs": [
        {
          "output_type": "execute_result",
          "data": {
            "text/plain": [
              "25"
            ]
          },
          "metadata": {},
          "execution_count": 14
        }
      ]
    },
    {
      "cell_type": "code",
      "source": [
        "# Multiplication operation expression\n",
        "\n",
        "5 * 5"
      ],
      "metadata": {
        "id": "05UWlbXbNx_J",
        "outputId": "778e3183-7e08-4c7a-ce49-7074feffbbac",
        "colab": {
          "base_uri": "https://localhost:8080/"
        }
      },
      "execution_count": 15,
      "outputs": [
        {
          "output_type": "execute_result",
          "data": {
            "text/plain": [
              "25"
            ]
          },
          "metadata": {},
          "execution_count": 15
        }
      ]
    },
    {
      "cell_type": "code",
      "source": [
        "# Multiplication operation expression\n",
        "\n",
        "5 * 5"
      ],
      "metadata": {
        "id": "lIImtakROC1i",
        "outputId": "2b72ee1d-6635-4b5c-dc87-cfb1f6ff1e0b",
        "colab": {
          "base_uri": "https://localhost:8080/"
        }
      },
      "execution_count": 16,
      "outputs": [
        {
          "output_type": "execute_result",
          "data": {
            "text/plain": [
              "25"
            ]
          },
          "metadata": {},
          "execution_count": 16
        }
      ]
    },
    {
      "cell_type": "code",
      "source": [
        "# Mathematical expression\n",
        "\n",
        "30 + 2 * 60"
      ],
      "metadata": {
        "id": "LEjeybd0OGXk",
        "outputId": "8994f525-8d53-49f4-e089-00c6fb93edb7",
        "colab": {
          "base_uri": "https://localhost:8080/"
        }
      },
      "execution_count": 17,
      "outputs": [
        {
          "output_type": "execute_result",
          "data": {
            "text/plain": [
              "150"
            ]
          },
          "metadata": {},
          "execution_count": 17
        }
      ]
    },
    {
      "cell_type": "code",
      "source": [
        "# Store value into variable\n",
        "\n",
        "x = 43 + 60 + 16 + 41\n",
        "x\n"
      ],
      "metadata": {
        "id": "1lSyfPdtOLmf",
        "outputId": "d90cec4d-2fbf-4f0f-9056-8b567f3b0d05",
        "colab": {
          "base_uri": "https://localhost:8080/"
        }
      },
      "execution_count": 18,
      "outputs": [
        {
          "output_type": "execute_result",
          "data": {
            "text/plain": [
              "160"
            ]
          },
          "metadata": {},
          "execution_count": 18
        }
      ]
    },
    {
      "cell_type": "code",
      "source": [
        "# Write your code below and press Shift+Enter to execute\n",
        "\n",
        "d = \"ABCDEFG\"\n",
        "print(d[:3])"
      ],
      "metadata": {
        "id": "l9yzQK39OWP6",
        "outputId": "0930fd76-1e7a-4969-fcac-e2d333966ba6",
        "colab": {
          "base_uri": "https://localhost:8080/"
        }
      },
      "execution_count": 19,
      "outputs": [
        {
          "output_type": "stream",
          "name": "stdout",
          "text": [
            "ABC\n"
          ]
        }
      ]
    },
    {
      "cell_type": "code",
      "source": [
        "# Write your code below and press Shift+Enter to execute\n",
        "\n",
        "e = 'clocrkr1e1c1t'\n",
        "print(e[::2])"
      ],
      "metadata": {
        "id": "4uZNG_wEPAqm",
        "outputId": "83d437a1-eeb8-486a-b37e-423af2c8303e",
        "colab": {
          "base_uri": "https://localhost:8080/"
        }
      },
      "execution_count": 20,
      "outputs": [
        {
          "output_type": "stream",
          "name": "stdout",
          "text": [
            "correct\n"
          ]
        }
      ]
    },
    {
      "cell_type": "code",
      "source": [
        "# Write your code below and press Shift+Enter to execute\n",
        "\n",
        "f = \"You are wrong\"\n",
        "f.upper()"
      ],
      "metadata": {
        "id": "8oqMl1eMPD21",
        "outputId": "56d9e5fe-f4a8-4f93-831f-a1db9a1c1ce7",
        "colab": {
          "base_uri": "https://localhost:8080/",
          "height": 35
        }
      },
      "execution_count": 21,
      "outputs": [
        {
          "output_type": "execute_result",
          "data": {
            "text/plain": [
              "'YOU ARE WRONG'"
            ],
            "application/vnd.google.colaboratory.intrinsic+json": {
              "type": "string"
            }
          },
          "metadata": {},
          "execution_count": 21
        }
      ]
    },
    {
      "cell_type": "code",
      "source": [
        "# Write your code below and press Shift+Enter to execute\n",
        "\n",
        "g = \"Mary had a little lamb Little lamb, little lamb Mary had a little lamb \\\n",
        "Its fleece was white as snow And everywhere that Mary went Mary went, Mary went \\\n",
        "Everywhere that Mary went The lamb was sure to go\"\n",
        "g.find(\"snow\")"
      ],
      "metadata": {
        "id": "EOFuP9wdPJ9a",
        "outputId": "70f60733-58d4-444c-aecf-ea5e53154f1f",
        "colab": {
          "base_uri": "https://localhost:8080/"
        }
      },
      "execution_count": 22,
      "outputs": [
        {
          "output_type": "execute_result",
          "data": {
            "text/plain": [
              "95"
            ]
          },
          "metadata": {},
          "execution_count": 22
        }
      ]
    },
    {
      "cell_type": "code",
      "source": [
        "g.replace(\"Mary\", \"Bob\")"
      ],
      "metadata": {
        "id": "FC3QPkvzPWGQ",
        "outputId": "ab10bc8a-b9d1-4b7d-bc49-11b618681790",
        "colab": {
          "base_uri": "https://localhost:8080/",
          "height": 53
        }
      },
      "execution_count": 23,
      "outputs": [
        {
          "output_type": "execute_result",
          "data": {
            "text/plain": [
              "'Bob had a little lamb Little lamb, little lamb Bob had a little lamb Its fleece was white as snow And everywhere that Bob went Bob went, Bob went Everywhere that Bob went The lamb was sure to go'"
            ],
            "application/vnd.google.colaboratory.intrinsic+json": {
              "type": "string"
            }
          },
          "metadata": {},
          "execution_count": 23
        }
      ]
    },
    {
      "cell_type": "code",
      "source": [
        "# sample tuple\n",
        "\n",
        "genres_tuple = (\"pop\", \"rock\", \"soul\", \"hard rock\", \"soft rock\", \\\n",
        "                \"R&B\", \"progressive rock\", \"disco\") \n",
        "genres_tuple"
      ],
      "metadata": {
        "id": "cYiDrr6XPahQ",
        "outputId": "5b970729-1d19-4284-be38-030960ec01eb",
        "colab": {
          "base_uri": "https://localhost:8080/"
        }
      },
      "execution_count": 24,
      "outputs": [
        {
          "output_type": "execute_result",
          "data": {
            "text/plain": [
              "('pop',\n",
              " 'rock',\n",
              " 'soul',\n",
              " 'hard rock',\n",
              " 'soft rock',\n",
              " 'R&B',\n",
              " 'progressive rock',\n",
              " 'disco')"
            ]
          },
          "metadata": {},
          "execution_count": 24
        }
      ]
    },
    {
      "cell_type": "code",
      "source": [
        "# Write your code below and press Shift+Enter to execute\n",
        "len(genres_tuple)"
      ],
      "metadata": {
        "id": "Vv2qFcp1Pvn7",
        "outputId": "2db5f988-5f5e-4952-8e3a-25dbb49433ae",
        "colab": {
          "base_uri": "https://localhost:8080/"
        }
      },
      "execution_count": 25,
      "outputs": [
        {
          "output_type": "execute_result",
          "data": {
            "text/plain": [
              "8"
            ]
          },
          "metadata": {},
          "execution_count": 25
        }
      ]
    },
    {
      "cell_type": "code",
      "source": [
        "# Write your code below and press Shift+Enter to execute\n",
        "genres_tuple[3]"
      ],
      "metadata": {
        "id": "fP5yTWnKPy5i",
        "outputId": "aa6c5207-ade0-4970-b51f-9855d24e7d89",
        "colab": {
          "base_uri": "https://localhost:8080/",
          "height": 35
        }
      },
      "execution_count": 26,
      "outputs": [
        {
          "output_type": "execute_result",
          "data": {
            "text/plain": [
              "'hard rock'"
            ],
            "application/vnd.google.colaboratory.intrinsic+json": {
              "type": "string"
            }
          },
          "metadata": {},
          "execution_count": 26
        }
      ]
    },
    {
      "cell_type": "code",
      "source": [
        "# Write your code below and press Shift+Enter to execute\n",
        "genres_tuple[3:6]"
      ],
      "metadata": {
        "id": "IAJcG2RJP3Po",
        "outputId": "02a46424-4b34-4d16-da0a-416475d8df04",
        "colab": {
          "base_uri": "https://localhost:8080/"
        }
      },
      "execution_count": 27,
      "outputs": [
        {
          "output_type": "execute_result",
          "data": {
            "text/plain": [
              "('hard rock', 'soft rock', 'R&B')"
            ]
          },
          "metadata": {},
          "execution_count": 27
        }
      ]
    },
    {
      "cell_type": "code",
      "source": [
        "# Write your code below and press Shift+Enter to execute\n",
        "genres_tuple[0:2]"
      ],
      "metadata": {
        "id": "d70pJHj9P6EK",
        "outputId": "b0f7e527-6460-4053-d43f-92401e397f26",
        "colab": {
          "base_uri": "https://localhost:8080/"
        }
      },
      "execution_count": 28,
      "outputs": [
        {
          "output_type": "execute_result",
          "data": {
            "text/plain": [
              "('pop', 'rock')"
            ]
          },
          "metadata": {},
          "execution_count": 28
        }
      ]
    },
    {
      "cell_type": "code",
      "source": [
        "# Write your code below and press Shift+Enter to execute\n",
        "genres_tuple.index(\"disco\")"
      ],
      "metadata": {
        "id": "z1K6G6vMP9YH",
        "outputId": "0aefb614-2941-4fb9-f944-5660f0481524",
        "colab": {
          "base_uri": "https://localhost:8080/"
        }
      },
      "execution_count": 29,
      "outputs": [
        {
          "output_type": "execute_result",
          "data": {
            "text/plain": [
              "7"
            ]
          },
          "metadata": {},
          "execution_count": 29
        }
      ]
    },
    {
      "cell_type": "code",
      "source": [
        "# Write your code below and press Shift+Enter to execute\n",
        "#C_tuple = genres_tuple[1:6:2]\n",
        "C_tuple = (-5, 1, -3)\n",
        "C_list = sorted(C_tuple)\n",
        "C_list"
      ],
      "metadata": {
        "id": "V0Y1jxmmQAiB",
        "outputId": "a6d72eb7-6051-47f7-c762-7fb21d9e9b02",
        "colab": {
          "base_uri": "https://localhost:8080/"
        }
      },
      "execution_count": 30,
      "outputs": [
        {
          "output_type": "execute_result",
          "data": {
            "text/plain": [
              "[-5, -3, 1]"
            ]
          },
          "metadata": {},
          "execution_count": 30
        }
      ]
    },
    {
      "cell_type": "code",
      "source": [
        "# Write your code below and press Shift+Enter to execute\n",
        "a_list = [1, \"hello\", [1, 2, 3], True]\n",
        "a_list"
      ],
      "metadata": {
        "id": "QqSkbJq8QEcd",
        "outputId": "e138dffb-b0f9-4ee8-e8bc-0556f27fcd5b",
        "colab": {
          "base_uri": "https://localhost:8080/"
        }
      },
      "execution_count": 31,
      "outputs": [
        {
          "output_type": "execute_result",
          "data": {
            "text/plain": [
              "[1, 'hello', [1, 2, 3], True]"
            ]
          },
          "metadata": {},
          "execution_count": 31
        }
      ]
    },
    {
      "cell_type": "code",
      "source": [
        "# Write your code below and press Shift+Enter to execute\n",
        "a_list[1]"
      ],
      "metadata": {
        "id": "TxvbB7siQOjP",
        "outputId": "fb161a88-f467-49ed-84e2-4d43c74e7de9",
        "colab": {
          "base_uri": "https://localhost:8080/",
          "height": 35
        }
      },
      "execution_count": 32,
      "outputs": [
        {
          "output_type": "execute_result",
          "data": {
            "text/plain": [
              "'hello'"
            ],
            "application/vnd.google.colaboratory.intrinsic+json": {
              "type": "string"
            }
          },
          "metadata": {},
          "execution_count": 32
        }
      ]
    },
    {
      "cell_type": "code",
      "source": [
        "# Write your code below and press Shift+Enter to execute\n",
        "a_list[1:4]"
      ],
      "metadata": {
        "id": "QOaDxnqTQRYB",
        "outputId": "7d7186ae-03be-452d-e348-4353f2c4185c",
        "colab": {
          "base_uri": "https://localhost:8080/"
        }
      },
      "execution_count": 33,
      "outputs": [
        {
          "output_type": "execute_result",
          "data": {
            "text/plain": [
              "['hello', [1, 2, 3], True]"
            ]
          },
          "metadata": {},
          "execution_count": 33
        }
      ]
    },
    {
      "cell_type": "code",
      "source": [
        "# Write your code below and press Shift+Enter to execute\n",
        "A = [1, 'a']\n",
        "B = [2, 1, 'd']\n",
        "A + B"
      ],
      "metadata": {
        "id": "Gb0KdMD6QUZh",
        "outputId": "65c8162e-9e07-427b-887c-2d8c2d8699bb",
        "colab": {
          "base_uri": "https://localhost:8080/"
        }
      },
      "execution_count": 34,
      "outputs": [
        {
          "output_type": "execute_result",
          "data": {
            "text/plain": [
              "[1, 'a', 2, 1, 'd']"
            ]
          },
          "metadata": {},
          "execution_count": 34
        }
      ]
    },
    {
      "cell_type": "code",
      "source": [
        "# Write your code below and press Shift+Enter to execute\n",
        "set(['rap','house','electronic music', 'rap'])"
      ],
      "metadata": {
        "id": "7wiDrQwAQXrA",
        "outputId": "c58cc16c-e19b-4695-af21-382583f0071b",
        "colab": {
          "base_uri": "https://localhost:8080/"
        }
      },
      "execution_count": 35,
      "outputs": [
        {
          "output_type": "execute_result",
          "data": {
            "text/plain": [
              "{'electronic music', 'house', 'rap'}"
            ]
          },
          "metadata": {},
          "execution_count": 35
        }
      ]
    },
    {
      "cell_type": "code",
      "source": [
        "# Write your code below and press Shift+Enter to execute\n",
        "A = [1, 2, 2, 1]\n",
        "B = set([1, 2, 2, 1])\n",
        "print(\"The sum of A is:\", sum(A))\n",
        "print(\"the sum of B is:\", sum(B))"
      ],
      "metadata": {
        "id": "4boBNpL_Q03s",
        "outputId": "991c2ffc-49fb-4e44-baf1-3399ca15e83d",
        "colab": {
          "base_uri": "https://localhost:8080/"
        }
      },
      "execution_count": 36,
      "outputs": [
        {
          "output_type": "stream",
          "name": "stdout",
          "text": [
            "The sum of A is: 6\n",
            "the sum of B is: 3\n"
          ]
        }
      ]
    },
    {
      "cell_type": "code",
      "source": [
        "# Write your code below and press Shift+Enter to execute\n",
        "\n",
        "album_set1 = set([\"Thriller\", 'AC/DC', 'Back in Black'])\n",
        "album_set2 = set([ \"AC/DC\", \"Back in Black\", \"The Dark Side of the Moon\"])\n",
        "album_set3 = album_set1.union(album_set2)\n",
        "album_set3"
      ],
      "metadata": {
        "id": "dhKjB5LyQ3-K",
        "outputId": "07d85826-9dd0-4243-b435-11511364524c",
        "colab": {
          "base_uri": "https://localhost:8080/"
        }
      },
      "execution_count": 37,
      "outputs": [
        {
          "output_type": "execute_result",
          "data": {
            "text/plain": [
              "{'AC/DC', 'Back in Black', 'The Dark Side of the Moon', 'Thriller'}"
            ]
          },
          "metadata": {},
          "execution_count": 37
        }
      ]
    },
    {
      "cell_type": "code",
      "source": [
        "# Write your code below and press Shift+Enter to execute\n",
        "album_set1.issubset(album_set3) "
      ],
      "metadata": {
        "id": "5FG1abAYQ7pI",
        "outputId": "86da1f10-0df0-4c01-be9f-fe9284a09a9e",
        "colab": {
          "base_uri": "https://localhost:8080/"
        }
      },
      "execution_count": 38,
      "outputs": [
        {
          "output_type": "execute_result",
          "data": {
            "text/plain": [
              "True"
            ]
          },
          "metadata": {},
          "execution_count": 38
        }
      ]
    },
    {
      "cell_type": "code",
      "source": [
        "D={'a':0,'b':1,'c':2}"
      ],
      "metadata": {
        "id": "XSbEPXe0Q-qB"
      },
      "execution_count": 39,
      "outputs": []
    },
    {
      "cell_type": "code",
      "source": [
        "D['a']"
      ],
      "metadata": {
        "id": "CGGGOSFLRDtg",
        "outputId": "ba7c0904-ef20-44b5-ed10-7aab18e89457",
        "colab": {
          "base_uri": "https://localhost:8080/"
        }
      },
      "execution_count": 40,
      "outputs": [
        {
          "output_type": "execute_result",
          "data": {
            "text/plain": [
              "0"
            ]
          },
          "metadata": {},
          "execution_count": 40
        }
      ]
    },
    {
      "cell_type": "code",
      "source": [
        "D.keys()"
      ],
      "metadata": {
        "id": "OJo-U0X1RGyd",
        "outputId": "d9394ebf-e2ee-4b07-ecde-c13a779c5a3f",
        "colab": {
          "base_uri": "https://localhost:8080/"
        }
      },
      "execution_count": 41,
      "outputs": [
        {
          "output_type": "execute_result",
          "data": {
            "text/plain": [
              "dict_keys(['a', 'b', 'c'])"
            ]
          },
          "metadata": {},
          "execution_count": 41
        }
      ]
    },
    {
      "cell_type": "code",
      "source": [
        "# Write your code below and press Shift+Enter to execute\n",
        "\n",
        "rating = 8.5\n",
        "\n",
        "if rating > 8:\n",
        "    print(\"This album is Amazing\")"
      ],
      "metadata": {
        "id": "B_IrAO-LRJ7a",
        "outputId": "1afdd7db-3c50-4714-9432-543c80bc70e2",
        "colab": {
          "base_uri": "https://localhost:8080/"
        }
      },
      "execution_count": 42,
      "outputs": [
        {
          "output_type": "stream",
          "name": "stdout",
          "text": [
            "This album is Amazing\n"
          ]
        }
      ]
    },
    {
      "cell_type": "code",
      "source": [
        "# Write your code below and press Shift+Enter to execute\n",
        "\n",
        "rating = 8.5\n",
        "\n",
        "if rating > 8:\n",
        "    print(\"this album is amazing\")\n",
        "else:\n",
        "    print(\"this album is ok\")"
      ],
      "metadata": {
        "id": "bq1iRZAaR7pg",
        "outputId": "08974e4f-7a2a-49c8-e2af-6dcb8a4bcb29",
        "colab": {
          "base_uri": "https://localhost:8080/"
        }
      },
      "execution_count": 43,
      "outputs": [
        {
          "output_type": "stream",
          "name": "stdout",
          "text": [
            "this album is amazing\n"
          ]
        }
      ]
    },
    {
      "cell_type": "code",
      "source": [
        "# Write your code below and press Shift+Enter to execute\n",
        "\n",
        "album_year = 1979\n",
        "\n",
        "if (album_year < 1980) or (album_year == 1991) or (album_year == 1993):\n",
        "    print(\"This album came out in the year\", album_year)"
      ],
      "metadata": {
        "id": "MRsZPm89SAN3",
        "outputId": "4cd9e0c5-804c-45eb-afc3-f9b7447373b3",
        "colab": {
          "base_uri": "https://localhost:8080/"
        }
      },
      "execution_count": 44,
      "outputs": [
        {
          "output_type": "stream",
          "name": "stdout",
          "text": [
            "This album came out in the year 1979\n"
          ]
        }
      ]
    },
    {
      "cell_type": "code",
      "source": [],
      "metadata": {
        "id": "Y7iZz8ZgSEPc"
      },
      "execution_count": null,
      "outputs": []
    }
  ]
}